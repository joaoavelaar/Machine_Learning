{
  "nbformat": 4,
  "nbformat_minor": 0,
  "metadata": {
    "colab": {
      "provenance": []
    },
    "kernelspec": {
      "name": "python3",
      "display_name": "Python 3"
    },
    "language_info": {
      "name": "python"
    }
  },
  "cells": [
    {
      "cell_type": "code",
      "execution_count": 4,
      "metadata": {
        "colab": {
          "base_uri": "https://localhost:8080/"
        },
        "id": "GqnrKITtvJpv",
        "outputId": "aafe0544-b4fc-478b-9e6f-c1f1b36a9142"
      },
      "outputs": [
        {
          "output_type": "stream",
          "name": "stdout",
          "text": [
            "--2024-10-04 22:55:07--  https://files.grouplens.org/datasets/movielens/ml-latest-small.zip\n",
            "Resolving files.grouplens.org (files.grouplens.org)... 128.101.65.152\n",
            "Connecting to files.grouplens.org (files.grouplens.org)|128.101.65.152|:443... connected.\n",
            "HTTP request sent, awaiting response... 200 OK\n",
            "Length: 978202 (955K) [application/zip]\n",
            "Saving to: ‘ml-latest-small.zip’\n",
            "\n",
            "ml-latest-small.zip 100%[===================>] 955.28K  3.23MB/s    in 0.3s    \n",
            "\n",
            "2024-10-04 22:55:08 (3.23 MB/s) - ‘ml-latest-small.zip’ saved [978202/978202]\n",
            "\n",
            "Archive:  ml-latest-small.zip\n",
            "   creating: movielens_data/ml-latest-small/\n",
            "  inflating: movielens_data/ml-latest-small/links.csv  \n",
            "  inflating: movielens_data/ml-latest-small/tags.csv  \n",
            "  inflating: movielens_data/ml-latest-small/ratings.csv  \n",
            "  inflating: movielens_data/ml-latest-small/README.txt  \n",
            "  inflating: movielens_data/ml-latest-small/movies.csv  \n",
            "   userId  movieId  rating  timestamp\n",
            "0       1        1     4.0  964982703\n",
            "1       1        3     4.0  964981247\n",
            "2       1        6     4.0  964982224\n",
            "3       1       47     5.0  964983815\n",
            "4       1       50     5.0  964982931\n",
            "   movieId                               title  \\\n",
            "0        1                    Toy Story (1995)   \n",
            "1        2                      Jumanji (1995)   \n",
            "2        3             Grumpier Old Men (1995)   \n",
            "3        4            Waiting to Exhale (1995)   \n",
            "4        5  Father of the Bride Part II (1995)   \n",
            "\n",
            "                                        genres  \n",
            "0  Adventure|Animation|Children|Comedy|Fantasy  \n",
            "1                   Adventure|Children|Fantasy  \n",
            "2                               Comedy|Romance  \n",
            "3                         Comedy|Drama|Romance  \n",
            "4                                       Comedy  \n"
          ]
        }
      ],
      "source": [
        "import pandas as pd\n",
        "import numpy as np\n",
        "from sklearn.metrics.pairwise import cosine_similarity\n",
        "import matplotlib.pyplot as plt\n",
        "import seaborn as sns\n",
        "\n",
        "# Carregar os dados\n",
        "!wget https://files.grouplens.org/datasets/movielens/ml-latest-small.zip\n",
        "!unzip ml-latest-small.zip -d movielens_data\n",
        "\n",
        "# Carregar os arquivos CSV\n",
        "ratings = pd.read_csv('movielens_data/ml-latest-small/ratings.csv')\n",
        "movies = pd.read_csv('movielens_data/ml-latest-small/movies.csv')\n",
        "\n",
        "# Exibir as primeiras linhas dos dados\n",
        "print(ratings.head())\n",
        "print(movies.head())\n"
      ]
    },
    {
      "cell_type": "code",
      "source": [
        "# Criar a matriz de utilidade\n",
        "utility_matrix = ratings.pivot(index='userId', columns='movieId', values='rating').fillna(0)\n",
        "\n",
        "# Exibir a matriz de utilidade\n",
        "print(utility_matrix.head())\n",
        "\n"
      ],
      "metadata": {
        "colab": {
          "base_uri": "https://localhost:8080/"
        },
        "id": "tOJ2BHc-vPXf",
        "outputId": "5a0d2386-570b-4237-9fe5-8b68264fef11"
      },
      "execution_count": 5,
      "outputs": [
        {
          "output_type": "stream",
          "name": "stdout",
          "text": [
            "movieId  1       2       3       4       5       6       7       8       \\\n",
            "userId                                                                    \n",
            "1           4.0     0.0     4.0     0.0     0.0     4.0     0.0     0.0   \n",
            "2           0.0     0.0     0.0     0.0     0.0     0.0     0.0     0.0   \n",
            "3           0.0     0.0     0.0     0.0     0.0     0.0     0.0     0.0   \n",
            "4           0.0     0.0     0.0     0.0     0.0     0.0     0.0     0.0   \n",
            "5           4.0     0.0     0.0     0.0     0.0     0.0     0.0     0.0   \n",
            "\n",
            "movieId  9       10      ...  193565  193567  193571  193573  193579  193581  \\\n",
            "userId                   ...                                                   \n",
            "1           0.0     0.0  ...     0.0     0.0     0.0     0.0     0.0     0.0   \n",
            "2           0.0     0.0  ...     0.0     0.0     0.0     0.0     0.0     0.0   \n",
            "3           0.0     0.0  ...     0.0     0.0     0.0     0.0     0.0     0.0   \n",
            "4           0.0     0.0  ...     0.0     0.0     0.0     0.0     0.0     0.0   \n",
            "5           0.0     0.0  ...     0.0     0.0     0.0     0.0     0.0     0.0   \n",
            "\n",
            "movieId  193583  193585  193587  193609  \n",
            "userId                                   \n",
            "1           0.0     0.0     0.0     0.0  \n",
            "2           0.0     0.0     0.0     0.0  \n",
            "3           0.0     0.0     0.0     0.0  \n",
            "4           0.0     0.0     0.0     0.0  \n",
            "5           0.0     0.0     0.0     0.0  \n",
            "\n",
            "[5 rows x 9724 columns]\n"
          ]
        }
      ]
    },
    {
      "cell_type": "code",
      "source": [
        "def recommend_movies_user_based(user_id, num_recommendations=5):\n",
        "    user_similarity = cosine_similarity(utility_matrix)\n",
        "    user_similarity_df = pd.DataFrame(user_similarity, index=utility_matrix.index, columns=utility_matrix.index)\n",
        "\n",
        "    similar_users = user_similarity_df[user_id].sort_values(ascending=False).iloc[1:]  # Ignorar o próprio usuário\n",
        "    similar_users_indices = similar_users.index\n",
        "\n",
        "    similar_users_ratings = utility_matrix.loc[similar_users_indices]\n",
        "\n",
        "    recommendations = similar_users_ratings.mean(axis=0).sort_values(ascending=False)\n",
        "    recommended_movies = recommendations[recommendations > 0].index.tolist()[:num_recommendations]\n",
        "\n",
        "    return movies[movies['movieId'].isin(recommended_movies)]\n",
        "\n",
        "# Exemplo de recomendação para um usuário\n",
        "user_id = 1\n",
        "print(\"Recomendações Baseadas em Usuário:\")\n",
        "print(recommend_movies_user_based(user_id))\n"
      ],
      "metadata": {
        "colab": {
          "base_uri": "https://localhost:8080/"
        },
        "id": "uksd_23vvZPP",
        "outputId": "c40e617f-7aeb-4520-f4d0-c5359270a3b2"
      },
      "execution_count": 6,
      "outputs": [
        {
          "output_type": "stream",
          "name": "stdout",
          "text": [
            "Recomendações Baseadas em Usuário:\n",
            "      movieId                             title                       genres\n",
            "257       296               Pulp Fiction (1994)  Comedy|Crime|Drama|Thriller\n",
            "277       318  Shawshank Redemption, The (1994)                  Crime|Drama\n",
            "314       356               Forrest Gump (1994)     Comedy|Drama|Romance|War\n",
            "510       593  Silence of the Lambs, The (1991)        Crime|Horror|Thriller\n",
            "1939     2571                Matrix, The (1999)       Action|Sci-Fi|Thriller\n"
          ]
        }
      ]
    },
    {
      "cell_type": "code",
      "source": [
        "def recommend_movies_item_based(movie_id, num_recommendations=5):\n",
        "    item_similarity = cosine_similarity(utility_matrix.T)\n",
        "    item_similarity_df = pd.DataFrame(item_similarity, index=utility_matrix.columns, columns=utility_matrix.columns)\n",
        "\n",
        "    similar_items = item_similarity_df[movie_id].sort_values(ascending=False).iloc[1:]  # Ignorar o próprio item\n",
        "    recommended_movies = similar_items.index.tolist()[:num_recommendations]\n",
        "\n",
        "    return movies[movies['movieId'].isin(recommended_movies)]\n",
        "\n",
        "# Exemplo de recomendação para um filme\n",
        "movie_id = 1  # \"Toy Story (1995)\"\n",
        "print(\"Recomendações Baseadas em Item:\")\n",
        "print(recommend_movies_item_based(movie_id))\n"
      ],
      "metadata": {
        "colab": {
          "base_uri": "https://localhost:8080/"
        },
        "id": "e4-WfYLFv87u",
        "outputId": "24eaaa3c-e2a0-47ce-f668-500d0d0d0271"
      },
      "execution_count": 7,
      "outputs": [
        {
          "output_type": "stream",
          "name": "stdout",
          "text": [
            "Recomendações Baseadas em Item:\n",
            "      movieId                                      title  \\\n",
            "224       260  Star Wars: Episode IV - A New Hope (1977)   \n",
            "314       356                        Forrest Gump (1994)   \n",
            "418       480                       Jurassic Park (1993)   \n",
            "615       780       Independence Day (a.k.a. ID4) (1996)   \n",
            "2355     3114                         Toy Story 2 (1999)   \n",
            "\n",
            "                                           genres  \n",
            "224                       Action|Adventure|Sci-Fi  \n",
            "314                      Comedy|Drama|Romance|War  \n",
            "418              Action|Adventure|Sci-Fi|Thriller  \n",
            "615              Action|Adventure|Sci-Fi|Thriller  \n",
            "2355  Adventure|Animation|Children|Comedy|Fantasy  \n"
          ]
        }
      ]
    },
    {
      "cell_type": "code",
      "source": [
        "def recommend_movies_ensemble(user_id, movie_id, num_recommendations=5):\n",
        "    user_recommendations = recommend_movies_user_based(user_id, num_recommendations)\n",
        "    item_recommendations = recommend_movies_item_based(movie_id, num_recommendations)\n",
        "\n",
        "    # Combinar as recomendações\n",
        "    combined_recommendations = pd.Series(user_recommendations['movieId'].tolist() + item_recommendations['movieId'].tolist()).value_counts()\n",
        "\n",
        "    # Obter as top N recomendações\n",
        "    final_recommendations = combined_recommendations.index.tolist()[:num_recommendations]\n",
        "\n",
        "    return movies[movies['movieId'].isin(final_recommendations)]\n",
        "\n",
        "# Exemplo de recomendação Ensemble\n",
        "print(\"Recomendações Ensemble:\")\n",
        "print(recommend_movies_ensemble(user_id, movie_id))\n"
      ],
      "metadata": {
        "colab": {
          "base_uri": "https://localhost:8080/"
        },
        "id": "Iy38yaIAv_NN",
        "outputId": "e0a10cbc-99ef-4fb9-e609-73862ea27e2a"
      },
      "execution_count": 8,
      "outputs": [
        {
          "output_type": "stream",
          "name": "stdout",
          "text": [
            "Recomendações Ensemble:\n",
            "      movieId                             title                       genres\n",
            "257       296               Pulp Fiction (1994)  Comedy|Crime|Drama|Thriller\n",
            "277       318  Shawshank Redemption, The (1994)                  Crime|Drama\n",
            "314       356               Forrest Gump (1994)     Comedy|Drama|Romance|War\n",
            "510       593  Silence of the Lambs, The (1991)        Crime|Horror|Thriller\n",
            "1939     2571                Matrix, The (1999)       Action|Sci-Fi|Thriller\n"
          ]
        }
      ]
    },
    {
      "cell_type": "code",
      "source": [
        "from sklearn.model_selection import train_test_split\n",
        "\n",
        "# Dividir os dados em treino e teste\n",
        "train_data, test_data = train_test_split(ratings, test_size=0.2, random_state=42)\n",
        "\n",
        "# Criar a matriz de utilidade para o conjunto de treino\n",
        "utility_matrix_train = train_data.pivot(index='userId', columns='movieId', values='rating').fillna(0)\n",
        "\n",
        "# Criar a matriz de utilidade para o conjunto de teste\n",
        "utility_matrix_test = test_data.pivot(index='userId', columns='movieId', values='rating').fillna(0)\n"
      ],
      "metadata": {
        "id": "-jefrUDvwB1O"
      },
      "execution_count": 9,
      "outputs": []
    },
    {
      "cell_type": "code",
      "source": [
        "def recommend_movies_user_based(user_id, num_recommendations=5, utility_matrix=utility_matrix_train):\n",
        "    user_similarity = cosine_similarity(utility_matrix)\n",
        "    user_similarity_df = pd.DataFrame(user_similarity, index=utility_matrix.index, columns=utility_matrix.index)\n",
        "\n",
        "    similar_users = user_similarity_df[user_id].sort_values(ascending=False).iloc[1:]  # Ignorar o próprio usuário\n",
        "    similar_users_indices = similar_users.index\n",
        "\n",
        "    similar_users_ratings = utility_matrix.loc[similar_users_indices]\n",
        "\n",
        "    recommendations = similar_users_ratings.mean(axis=0).sort_values(ascending=False)\n",
        "    recommended_movies = recommendations[recommendations > 0].index.tolist()[:num_recommendations]\n",
        "\n",
        "    return recommended_movies\n",
        "\n",
        "def recommend_movies_item_based(movie_id, num_recommendations=5, utility_matrix=utility_matrix_train):\n",
        "    item_similarity = cosine_similarity(utility_matrix.T)\n",
        "    item_similarity_df = pd.DataFrame(item_similarity, index=utility_matrix.columns, columns=utility_matrix.columns)\n",
        "\n",
        "    similar_items = item_similarity_df[movie_id].sort_values(ascending=False).iloc[1:]  # Ignorar o próprio item\n",
        "    recommended_movies = similar_items.index.tolist()[:num_recommendations]\n",
        "\n",
        "    return recommended_movies\n",
        "\n",
        "def recommend_movies_ensemble(user_id, movie_id, num_recommendations=5):\n",
        "    user_recommendations = recommend_movies_user_based(user_id, num_recommendations)\n",
        "    item_recommendations = recommend_movies_item_based(movie_id, num_recommendations)\n",
        "\n",
        "    combined_recommendations = pd.Series(user_recommendations + item_recommendations).value_counts()\n",
        "    final_recommendations = combined_recommendations.index.tolist()[:num_recommendations]\n",
        "\n",
        "    return final_recommendations\n"
      ],
      "metadata": {
        "id": "H0IjeNPAwQ8O"
      },
      "execution_count": 10,
      "outputs": []
    },
    {
      "cell_type": "code",
      "source": [
        "def evaluate_recommendations(num_recommendations=5):\n",
        "    hits = 0\n",
        "    total_recommendations = 0\n",
        "\n",
        "    for user_id in utility_matrix_test.index:\n",
        "        # Verificar quais filmes foram realmente avaliados pelo usuário no conjunto de teste\n",
        "        true_movies = utility_matrix_test.loc[user_id][utility_matrix_test.loc[user_id] > 0].index.tolist()\n",
        "\n",
        "        # Se não houver filmes avaliados, pular o usuário\n",
        "        if not true_movies:\n",
        "            continue\n",
        "\n",
        "        # Fazer recomendações usando o modelo\n",
        "        recommended_movies = recommend_movies_ensemble(user_id, movie_id=1, num_recommendations=num_recommendations)\n",
        "\n",
        "        # Contar acertos\n",
        "        hits += len(set(recommended_movies) & set(true_movies))\n",
        "        total_recommendations += num_recommendations\n",
        "\n",
        "    # Calcular a precisão\n",
        "    precision = hits / total_recommendations if total_recommendations > 0 else 0\n",
        "    return precision\n",
        "\n",
        "precision_score = evaluate_recommendations(num_recommendations=5)\n",
        "print(f\"Acurácia (Precisão) do Modelo: {precision_score:.4f}\")\n"
      ],
      "metadata": {
        "colab": {
          "base_uri": "https://localhost:8080/",
          "height": 356
        },
        "id": "SSsZowChwSnu",
        "outputId": "77f57681-f93f-4760-e3c4-2d89356b5237"
      },
      "execution_count": 11,
      "outputs": [
        {
          "output_type": "error",
          "ename": "KeyboardInterrupt",
          "evalue": "",
          "traceback": [
            "\u001b[0;31m---------------------------------------------------------------------------\u001b[0m",
            "\u001b[0;31mKeyboardInterrupt\u001b[0m                         Traceback (most recent call last)",
            "\u001b[0;32m<ipython-input-11-ad914ff851d5>\u001b[0m in \u001b[0;36m<cell line: 24>\u001b[0;34m()\u001b[0m\n\u001b[1;32m     22\u001b[0m     \u001b[0;32mreturn\u001b[0m \u001b[0mprecision\u001b[0m\u001b[0;34m\u001b[0m\u001b[0;34m\u001b[0m\u001b[0m\n\u001b[1;32m     23\u001b[0m \u001b[0;34m\u001b[0m\u001b[0m\n\u001b[0;32m---> 24\u001b[0;31m \u001b[0mprecision_score\u001b[0m \u001b[0;34m=\u001b[0m \u001b[0mevaluate_recommendations\u001b[0m\u001b[0;34m(\u001b[0m\u001b[0mnum_recommendations\u001b[0m\u001b[0;34m=\u001b[0m\u001b[0;36m5\u001b[0m\u001b[0;34m)\u001b[0m\u001b[0;34m\u001b[0m\u001b[0;34m\u001b[0m\u001b[0m\n\u001b[0m\u001b[1;32m     25\u001b[0m \u001b[0mprint\u001b[0m\u001b[0;34m(\u001b[0m\u001b[0;34mf\"Acurácia (Precisão) do Modelo: {precision_score:.4f}\"\u001b[0m\u001b[0;34m)\u001b[0m\u001b[0;34m\u001b[0m\u001b[0;34m\u001b[0m\u001b[0m\n",
            "\u001b[0;32m<ipython-input-11-ad914ff851d5>\u001b[0m in \u001b[0;36mevaluate_recommendations\u001b[0;34m(num_recommendations)\u001b[0m\n\u001b[1;32m     12\u001b[0m \u001b[0;34m\u001b[0m\u001b[0m\n\u001b[1;32m     13\u001b[0m         \u001b[0;31m# Fazer recomendações usando o modelo\u001b[0m\u001b[0;34m\u001b[0m\u001b[0;34m\u001b[0m\u001b[0m\n\u001b[0;32m---> 14\u001b[0;31m         \u001b[0mrecommended_movies\u001b[0m \u001b[0;34m=\u001b[0m \u001b[0mrecommend_movies_ensemble\u001b[0m\u001b[0;34m(\u001b[0m\u001b[0muser_id\u001b[0m\u001b[0;34m,\u001b[0m \u001b[0mmovie_id\u001b[0m\u001b[0;34m=\u001b[0m\u001b[0;36m1\u001b[0m\u001b[0;34m,\u001b[0m \u001b[0mnum_recommendations\u001b[0m\u001b[0;34m=\u001b[0m\u001b[0mnum_recommendations\u001b[0m\u001b[0;34m)\u001b[0m\u001b[0;34m\u001b[0m\u001b[0;34m\u001b[0m\u001b[0m\n\u001b[0m\u001b[1;32m     15\u001b[0m \u001b[0;34m\u001b[0m\u001b[0m\n\u001b[1;32m     16\u001b[0m         \u001b[0;31m# Contar acertos\u001b[0m\u001b[0;34m\u001b[0m\u001b[0;34m\u001b[0m\u001b[0m\n",
            "\u001b[0;32m<ipython-input-10-520575d446bc>\u001b[0m in \u001b[0;36mrecommend_movies_ensemble\u001b[0;34m(user_id, movie_id, num_recommendations)\u001b[0m\n\u001b[1;32m     24\u001b[0m \u001b[0;32mdef\u001b[0m \u001b[0mrecommend_movies_ensemble\u001b[0m\u001b[0;34m(\u001b[0m\u001b[0muser_id\u001b[0m\u001b[0;34m,\u001b[0m \u001b[0mmovie_id\u001b[0m\u001b[0;34m,\u001b[0m \u001b[0mnum_recommendations\u001b[0m\u001b[0;34m=\u001b[0m\u001b[0;36m5\u001b[0m\u001b[0;34m)\u001b[0m\u001b[0;34m:\u001b[0m\u001b[0;34m\u001b[0m\u001b[0;34m\u001b[0m\u001b[0m\n\u001b[1;32m     25\u001b[0m     \u001b[0muser_recommendations\u001b[0m \u001b[0;34m=\u001b[0m \u001b[0mrecommend_movies_user_based\u001b[0m\u001b[0;34m(\u001b[0m\u001b[0muser_id\u001b[0m\u001b[0;34m,\u001b[0m \u001b[0mnum_recommendations\u001b[0m\u001b[0;34m)\u001b[0m\u001b[0;34m\u001b[0m\u001b[0;34m\u001b[0m\u001b[0m\n\u001b[0;32m---> 26\u001b[0;31m     \u001b[0mitem_recommendations\u001b[0m \u001b[0;34m=\u001b[0m \u001b[0mrecommend_movies_item_based\u001b[0m\u001b[0;34m(\u001b[0m\u001b[0mmovie_id\u001b[0m\u001b[0;34m,\u001b[0m \u001b[0mnum_recommendations\u001b[0m\u001b[0;34m)\u001b[0m\u001b[0;34m\u001b[0m\u001b[0;34m\u001b[0m\u001b[0m\n\u001b[0m\u001b[1;32m     27\u001b[0m \u001b[0;34m\u001b[0m\u001b[0m\n\u001b[1;32m     28\u001b[0m     \u001b[0mcombined_recommendations\u001b[0m \u001b[0;34m=\u001b[0m \u001b[0mpd\u001b[0m\u001b[0;34m.\u001b[0m\u001b[0mSeries\u001b[0m\u001b[0;34m(\u001b[0m\u001b[0muser_recommendations\u001b[0m \u001b[0;34m+\u001b[0m \u001b[0mitem_recommendations\u001b[0m\u001b[0;34m)\u001b[0m\u001b[0;34m.\u001b[0m\u001b[0mvalue_counts\u001b[0m\u001b[0;34m(\u001b[0m\u001b[0;34m)\u001b[0m\u001b[0;34m\u001b[0m\u001b[0;34m\u001b[0m\u001b[0m\n",
            "\u001b[0;32m<ipython-input-10-520575d446bc>\u001b[0m in \u001b[0;36mrecommend_movies_item_based\u001b[0;34m(movie_id, num_recommendations, utility_matrix)\u001b[0m\n\u001b[1;32m     14\u001b[0m \u001b[0;34m\u001b[0m\u001b[0m\n\u001b[1;32m     15\u001b[0m \u001b[0;32mdef\u001b[0m \u001b[0mrecommend_movies_item_based\u001b[0m\u001b[0;34m(\u001b[0m\u001b[0mmovie_id\u001b[0m\u001b[0;34m,\u001b[0m \u001b[0mnum_recommendations\u001b[0m\u001b[0;34m=\u001b[0m\u001b[0;36m5\u001b[0m\u001b[0;34m,\u001b[0m \u001b[0mutility_matrix\u001b[0m\u001b[0;34m=\u001b[0m\u001b[0mutility_matrix_train\u001b[0m\u001b[0;34m)\u001b[0m\u001b[0;34m:\u001b[0m\u001b[0;34m\u001b[0m\u001b[0;34m\u001b[0m\u001b[0m\n\u001b[0;32m---> 16\u001b[0;31m     \u001b[0mitem_similarity\u001b[0m \u001b[0;34m=\u001b[0m \u001b[0mcosine_similarity\u001b[0m\u001b[0;34m(\u001b[0m\u001b[0mutility_matrix\u001b[0m\u001b[0;34m.\u001b[0m\u001b[0mT\u001b[0m\u001b[0;34m)\u001b[0m\u001b[0;34m\u001b[0m\u001b[0;34m\u001b[0m\u001b[0m\n\u001b[0m\u001b[1;32m     17\u001b[0m     \u001b[0mitem_similarity_df\u001b[0m \u001b[0;34m=\u001b[0m \u001b[0mpd\u001b[0m\u001b[0;34m.\u001b[0m\u001b[0mDataFrame\u001b[0m\u001b[0;34m(\u001b[0m\u001b[0mitem_similarity\u001b[0m\u001b[0;34m,\u001b[0m \u001b[0mindex\u001b[0m\u001b[0;34m=\u001b[0m\u001b[0mutility_matrix\u001b[0m\u001b[0;34m.\u001b[0m\u001b[0mcolumns\u001b[0m\u001b[0;34m,\u001b[0m \u001b[0mcolumns\u001b[0m\u001b[0;34m=\u001b[0m\u001b[0mutility_matrix\u001b[0m\u001b[0;34m.\u001b[0m\u001b[0mcolumns\u001b[0m\u001b[0;34m)\u001b[0m\u001b[0;34m\u001b[0m\u001b[0;34m\u001b[0m\u001b[0m\n\u001b[1;32m     18\u001b[0m \u001b[0;34m\u001b[0m\u001b[0m\n",
            "\u001b[0;32m/usr/local/lib/python3.10/dist-packages/sklearn/utils/_param_validation.py\u001b[0m in \u001b[0;36mwrapper\u001b[0;34m(*args, **kwargs)\u001b[0m\n\u001b[1;32m    211\u001b[0m                     )\n\u001b[1;32m    212\u001b[0m                 ):\n\u001b[0;32m--> 213\u001b[0;31m                     \u001b[0;32mreturn\u001b[0m \u001b[0mfunc\u001b[0m\u001b[0;34m(\u001b[0m\u001b[0;34m*\u001b[0m\u001b[0margs\u001b[0m\u001b[0;34m,\u001b[0m \u001b[0;34m**\u001b[0m\u001b[0mkwargs\u001b[0m\u001b[0;34m)\u001b[0m\u001b[0;34m\u001b[0m\u001b[0;34m\u001b[0m\u001b[0m\n\u001b[0m\u001b[1;32m    214\u001b[0m             \u001b[0;32mexcept\u001b[0m \u001b[0mInvalidParameterError\u001b[0m \u001b[0;32mas\u001b[0m \u001b[0me\u001b[0m\u001b[0;34m:\u001b[0m\u001b[0;34m\u001b[0m\u001b[0;34m\u001b[0m\u001b[0m\n\u001b[1;32m    215\u001b[0m                 \u001b[0;31m# When the function is just a wrapper around an estimator, we allow\u001b[0m\u001b[0;34m\u001b[0m\u001b[0;34m\u001b[0m\u001b[0m\n",
            "\u001b[0;32m/usr/local/lib/python3.10/dist-packages/sklearn/metrics/pairwise.py\u001b[0m in \u001b[0;36mcosine_similarity\u001b[0;34m(X, Y, dense_output)\u001b[0m\n\u001b[1;32m   1685\u001b[0m         \u001b[0mY_normalized\u001b[0m \u001b[0;34m=\u001b[0m \u001b[0mnormalize\u001b[0m\u001b[0;34m(\u001b[0m\u001b[0mY\u001b[0m\u001b[0;34m,\u001b[0m \u001b[0mcopy\u001b[0m\u001b[0;34m=\u001b[0m\u001b[0;32mTrue\u001b[0m\u001b[0;34m)\u001b[0m\u001b[0;34m\u001b[0m\u001b[0;34m\u001b[0m\u001b[0m\n\u001b[1;32m   1686\u001b[0m \u001b[0;34m\u001b[0m\u001b[0m\n\u001b[0;32m-> 1687\u001b[0;31m     \u001b[0mK\u001b[0m \u001b[0;34m=\u001b[0m \u001b[0msafe_sparse_dot\u001b[0m\u001b[0;34m(\u001b[0m\u001b[0mX_normalized\u001b[0m\u001b[0;34m,\u001b[0m \u001b[0mY_normalized\u001b[0m\u001b[0;34m.\u001b[0m\u001b[0mT\u001b[0m\u001b[0;34m,\u001b[0m \u001b[0mdense_output\u001b[0m\u001b[0;34m=\u001b[0m\u001b[0mdense_output\u001b[0m\u001b[0;34m)\u001b[0m\u001b[0;34m\u001b[0m\u001b[0;34m\u001b[0m\u001b[0m\n\u001b[0m\u001b[1;32m   1688\u001b[0m \u001b[0;34m\u001b[0m\u001b[0m\n\u001b[1;32m   1689\u001b[0m     \u001b[0;32mreturn\u001b[0m \u001b[0mK\u001b[0m\u001b[0;34m\u001b[0m\u001b[0;34m\u001b[0m\u001b[0m\n",
            "\u001b[0;32m/usr/local/lib/python3.10/dist-packages/sklearn/utils/extmath.py\u001b[0m in \u001b[0;36msafe_sparse_dot\u001b[0;34m(a, b, dense_output)\u001b[0m\n\u001b[1;32m    206\u001b[0m \u001b[0;34m\u001b[0m\u001b[0m\n\u001b[1;32m    207\u001b[0m     if (\n\u001b[0;32m--> 208\u001b[0;31m         \u001b[0msparse\u001b[0m\u001b[0;34m.\u001b[0m\u001b[0missparse\u001b[0m\u001b[0;34m(\u001b[0m\u001b[0ma\u001b[0m\u001b[0;34m)\u001b[0m\u001b[0;34m\u001b[0m\u001b[0;34m\u001b[0m\u001b[0m\n\u001b[0m\u001b[1;32m    209\u001b[0m         \u001b[0;32mand\u001b[0m \u001b[0msparse\u001b[0m\u001b[0;34m.\u001b[0m\u001b[0missparse\u001b[0m\u001b[0;34m(\u001b[0m\u001b[0mb\u001b[0m\u001b[0;34m)\u001b[0m\u001b[0;34m\u001b[0m\u001b[0;34m\u001b[0m\u001b[0m\n\u001b[1;32m    210\u001b[0m         \u001b[0;32mand\u001b[0m \u001b[0mdense_output\u001b[0m\u001b[0;34m\u001b[0m\u001b[0;34m\u001b[0m\u001b[0m\n",
            "\u001b[0;32m/usr/local/lib/python3.10/dist-packages/scipy/sparse/_base.py\u001b[0m in \u001b[0;36missparse\u001b[0;34m(x)\u001b[0m\n\u001b[1;32m   1511\u001b[0m \u001b[0;34m\u001b[0m\u001b[0m\n\u001b[1;32m   1512\u001b[0m \u001b[0;34m\u001b[0m\u001b[0m\n\u001b[0;32m-> 1513\u001b[0;31m \u001b[0;32mdef\u001b[0m \u001b[0missparse\u001b[0m\u001b[0;34m(\u001b[0m\u001b[0mx\u001b[0m\u001b[0;34m)\u001b[0m\u001b[0;34m:\u001b[0m\u001b[0;34m\u001b[0m\u001b[0;34m\u001b[0m\u001b[0m\n\u001b[0m\u001b[1;32m   1514\u001b[0m     \"\"\"Is `x` of a sparse array or sparse matrix type?\n\u001b[1;32m   1515\u001b[0m \u001b[0;34m\u001b[0m\u001b[0m\n",
            "\u001b[0;31mKeyboardInterrupt\u001b[0m: "
          ]
        }
      ]
    },
    {
      "cell_type": "code",
      "source": [],
      "metadata": {
        "id": "Uo9tfUOGwUTe"
      },
      "execution_count": null,
      "outputs": []
    }
  ]
}