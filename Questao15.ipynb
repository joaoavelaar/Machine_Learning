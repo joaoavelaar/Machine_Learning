{
 "cells": [
  {
   "cell_type": "code",
   "execution_count": 1,
   "id": "881be56c",
   "metadata": {},
   "outputs": [],
   "source": [
    "# Importando as bibliotecas\n",
    "import numpy as np\n",
    "import pandas as pd\n",
    "from sklearn.datasets import load_iris\n",
    "from sklearn.model_selection import cross_val_score\n",
    "from sklearn.decomposition import PCA\n",
    "from sklearn.preprocessing import StandardScaler\n",
    "from sklearn.linear_model import LogisticRegression\n",
    "from sklearn.pipeline import Pipeline"
   ]
  },
  {
   "cell_type": "code",
   "execution_count": 2,
   "id": "49e843a8",
   "metadata": {},
   "outputs": [],
   "source": [
    "# Carregando o dataset Iris\n",
    "data = load_iris()\n",
    "X = data.data\n",
    "y = data.target\n"
   ]
  },
  {
   "cell_type": "code",
   "execution_count": 3,
   "id": "c9641b23",
   "metadata": {},
   "outputs": [],
   "source": [
    "# Criando o pipeline\n",
    "pipeline = Pipeline([\n",
    "    ('scaler', StandardScaler()),       # Passo de pré-processamento (normalização)\n",
    "    ('pca', PCA(n_components=2)),       # Reduzindo a dimensionalidade para 2 componentes\n",
    "    ('classifier', LogisticRegression()) # Classificador (Regressão Logística)\n",
    "])"
   ]
  },
  {
   "cell_type": "code",
   "execution_count": 4,
   "id": "0a436b5e",
   "metadata": {},
   "outputs": [],
   "source": [
    "# Avaliando o pipeline com validação cruzada\n",
    "scores = cross_val_score(pipeline, X, y, cv=5)  # cv=5 indica validação cruzada com 5 divisões"
   ]
  },
  {
   "cell_type": "code",
   "execution_count": 5,
   "id": "39ea6346",
   "metadata": {},
   "outputs": [
    {
     "name": "stdout",
     "output_type": "stream",
     "text": [
      "Acurácias nas divisões da validação cruzada: [0.86666667 0.96666667 0.83333333 0.93333333 0.96666667]\n",
      "Acurácia média: 0.9133333333333334\n"
     ]
    }
   ],
   "source": [
    "# Mostrando os resultados\n",
    "print(\"Acurácias nas divisões da validação cruzada:\", scores)\n",
    "print(\"Acurácia média:\", np.mean(scores))\n"
   ]
  },
  {
   "cell_type": "code",
   "execution_count": null,
   "id": "66c06d74",
   "metadata": {},
   "outputs": [],
   "source": []
  }
 ],
 "metadata": {
  "kernelspec": {
   "display_name": "Python 3 (ipykernel)",
   "language": "python",
   "name": "python3"
  },
  "language_info": {
   "codemirror_mode": {
    "name": "ipython",
    "version": 3
   },
   "file_extension": ".py",
   "mimetype": "text/x-python",
   "name": "python",
   "nbconvert_exporter": "python",
   "pygments_lexer": "ipython3",
   "version": "3.11.4"
  }
 },
 "nbformat": 4,
 "nbformat_minor": 5
}
